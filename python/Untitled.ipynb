{
 "cells": [
  {
   "cell_type": "code",
   "execution_count": 1,
   "id": "4cd7a67b-bbb3-4a92-b834-fefcfb419614",
   "metadata": {},
   "outputs": [
    {
     "name": "stdout",
     "output_type": "stream",
     "text": [
      "Real Mohsin\n"
     ]
    }
   ],
   "source": [
    "print('Real Mohsin')"
   ]
  },
  {
   "cell_type": "code",
   "execution_count": null,
   "id": "7dded620-3a97-431c-af38-d4345e766e9a",
   "metadata": {},
   "outputs": [],
   "source": []
  }
 ],
 "metadata": {
  "kernelspec": {
   "display_name": "Python 3 (ipykernel)",
   "language": "python",
   "name": "python3"
  },
  "language_info": {
   "codemirror_mode": {
    "name": "ipython",
    "version": 3
   },
   "file_extension": ".py",
   "mimetype": "text/x-python",
   "name": "python",
   "nbconvert_exporter": "python",
   "pygments_lexer": "ipython3",
   "version": "3.12.2"
  }
 },
 "nbformat": 4,
 "nbformat_minor": 5
}
