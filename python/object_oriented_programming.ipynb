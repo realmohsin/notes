{
 "cells": [
  {
   "cell_type": "markdown",
   "id": "5145d85d-74cb-4bd8-b0cc-e40d8b2c6dcb",
   "metadata": {},
   "source": [
    "### Object Oriented Programming\n",
    "\n",
    "OOP is a method of programming that attempts to model some process or thing in the world as a class or object.\n",
    "\n",
    "class - a blueprint for objects. Classes can contain methods(functions) and attributes (similar to keys in a dict).\n",
    "\n",
    "instance - objects that are constructed from a class blueprint that contain their class's methods and properties\n",
    "\n",
    "Encapsulation - the grouping of public and private attributes and methods into a programmmatic class, making abstraction possible\n",
    "\n",
    "Abstraction - exposing only 'relevant' data in a class interface, hiding private attributes and methods (aka the 'inner workings') from users\n",
    "\n",
    "Instantiation - the creation of objects that are instances of classes"
   ]
  },
  {
   "cell_type": "code",
   "execution_count": 11,
   "id": "4011a132-1e11-40d1-9af9-1ad68f1310e0",
   "metadata": {},
   "outputs": [
    {
     "name": "stdout",
     "output_type": "stream",
     "text": [
      "<__main__.Vehicle object at 0x000001C5EBAF06E0>\n",
      "<__main__.Vehicle object at 0x000001C5EBA8C650>\n",
      "<class '__main__.Vehicle'>\n",
      "<class '__main__.Vehicle'>\n"
     ]
    }
   ],
   "source": [
    "class Vehicle:\n",
    "    def __init__(self, make, model, year):\n",
    "        self.make = make\n",
    "        self.model = model\n",
    "        self.year = year\n",
    "\n",
    "car_1 = Vehicle('Honda', 'Civic', 2017)\n",
    "car_2 = Vehicle('Toyota', 'Corolla', 2010)\n",
    "\n",
    "print(car_1)\n",
    "print(car_2)\n",
    "print(type(car_1))\n",
    "print(type(car_2))\n"
   ]
  },
  {
   "cell_type": "markdown",
   "id": "0ea8f263-16c4-4421-8629-19c25fac67d2",
   "metadata": {},
   "source": [
    "Underscores in classes\n",
    "\n",
    "Dunder methods, like \\_\\_init__ are used internally and you can provide implementation (and override)\n",
    "\n",
    "Private properties or methods should start with one underscore, like _name\n",
    "\n",
    "Properties and methods that should not participate in inheritance should start with two underscores, like __msg"
   ]
  },
  {
   "cell_type": "code",
   "execution_count": null,
   "id": "366fc105-97a9-4f73-b043-1c4281f68ae6",
   "metadata": {},
   "outputs": [
    {
     "name": "stdout",
     "output_type": "stream",
     "text": [
      "['_Person__msg', '__class__', '__delattr__', '__dict__', '__dir__', '__doc__', '__eq__', '__format__', '__ge__', '__getattribute__', '__getstate__', '__gt__', '__hash__', '__init__', '__init_subclass__', '__le__', '__lt__', '__module__', '__ne__', '__new__', '__reduce__', '__reduce_ex__', '__repr__', '__setattr__', '__sizeof__', '__str__', '__subclasshook__', '__weakref__', '_secret', 'name']\n",
      "I like turtles\n"
     ]
    }
   ],
   "source": [
    "class Person:\n",
    "    def __init__(self):\n",
    "        self.name = 'Tony'\n",
    "        self._secret = 'hi!'\n",
    "        self.__msg = 'I like turtles'\n",
    "\n",
    "p = Person()\n",
    "print(dir(p))\n",
    "print(p._Person__msg)"
   ]
  },
  {
   "cell_type": "code",
   "execution_count": 17,
   "id": "cbeb8708-20b3-4196-a006-2bf65092792e",
   "metadata": {},
   "outputs": [
    {
     "name": "stdout",
     "output_type": "stream",
     "text": [
      "acct.owner:  Mohsin\n",
      "acct.balance:  8.0\n"
     ]
    }
   ],
   "source": [
    "class BankAccount:\n",
    "    def __init__(self, owner):\n",
    "        self.owner = owner\n",
    "        self.balance = 0.0\n",
    "        \n",
    "    def deposit(self, amount):\n",
    "        self.balance += amount\n",
    "        return self.balance\n",
    "    \n",
    "    def withdraw(self, amount):\n",
    "        self.balance -= amount\n",
    "        return self.balance\n",
    "        \n",
    "\n",
    "acct = BankAccount('Mohsin')\n",
    "print('acct.owner: ', acct.owner)\n",
    "acct.deposit(15)\n",
    "acct.withdraw(7)\n",
    "print('acct.balance: ', acct.balance)"
   ]
  },
  {
   "cell_type": "markdown",
   "id": "e781effd-ae4e-4799-949e-eb41548b44de",
   "metadata": {},
   "source": [
    "In Python, class attributes can be accessed on the instance directly."
   ]
  },
  {
   "cell_type": "code",
   "execution_count": 20,
   "id": "b25dda84-1490-467b-986e-614330906e80",
   "metadata": {},
   "outputs": [
    {
     "name": "stdout",
     "output_type": "stream",
     "text": [
      "Chicken.total_eggs:  0\n",
      "Chicken.total_eggs:  1\n",
      "Chicken.total_eggs:  3\n",
      "c1.total_eggs:  3\n",
      "c2.total_eggs:  3\n"
     ]
    }
   ],
   "source": [
    "class Chicken:\n",
    "    total_eggs = 0\n",
    "    \n",
    "    def __init__(self, name, species):\n",
    "        self.name = name\n",
    "        self.species = species\n",
    "        self.eggs = 0\n",
    "        \n",
    "    def lay_egg(self):\n",
    "        self.eggs += 1\n",
    "        Chicken.total_eggs += 1\n",
    "        \n",
    "c1 = Chicken(name=\"Alice\", species=\"Partridge Silkie\")\n",
    "c2 = Chicken(name=\"Amelia\", species=\"Speckled Sussex\")\n",
    "print('Chicken.total_eggs: ', Chicken.total_eggs) #0\n",
    "c1.lay_egg()  #1\n",
    "print('Chicken.total_eggs: ', Chicken.total_eggs) #1\n",
    "c2.lay_egg()  #1\n",
    "c2.lay_egg()  #2\n",
    "print('Chicken.total_eggs: ', Chicken.total_eggs) #3\n",
    "print('c1.total_eggs: ', c1.total_eggs) #3, in Python, class attrs can be accessed directly\n",
    "print('c2.total_eggs: ', c2.total_eggs) #3, in Python, class attrs can be accessed directly"
   ]
  },
  {
   "cell_type": "markdown",
   "id": "3ceb8cc2-0710-4310-8c42-efc1ed4f2907",
   "metadata": {},
   "source": [
    "Class methods get passed the class itself as first argument."
   ]
  },
  {
   "cell_type": "code",
   "execution_count": 23,
   "id": "2f03ccc5-1e23-4df9-802f-e6f4e6daa6cb",
   "metadata": {},
   "outputs": [
    {
     "name": "stdout",
     "output_type": "stream",
     "text": [
      "<__main__.User object at 0x000001C5EBC07F80>\n",
      "<__main__.User object at 0x000001C5EBC04E60>\n"
     ]
    }
   ],
   "source": [
    "class User:\n",
    "    active_users = 0\n",
    "    \n",
    "    def __init__(self, first, last, age):\n",
    "        self.first = first\n",
    "        self.last = last\n",
    "        self.age = age\n",
    "        User.active_users += 1\n",
    "\n",
    "    @classmethod\n",
    "    def display_active_users(cls):\n",
    "        return f'There are currently {cls.active_users} active users'\n",
    "\n",
    "    @classmethod\n",
    "    def from_string(cls, raw_str):\n",
    "        first, last, age = raw_str.split(',')\n",
    "        return cls(first, last, int(age))\n",
    "\n",
    "    def full_name(self):\n",
    "        return f'{self.first} {self.last}'\n",
    "\n",
    "    def logout(self):\n",
    "        User.active_users -= 1\n",
    "        return f'{self.first} has logged out'\n",
    "\n",
    "jake = User('Jake', 'Tapper', 54)\n",
    "tom = User.from_string('Tom,Jones,23')\n",
    "\n",
    "print(jake)\n",
    "print(tom)\n",
    "    "
   ]
  },
  {
   "cell_type": "code",
   "execution_count": 24,
   "id": "14542b74-3358-47a6-b7b3-815b41a7f497",
   "metadata": {},
   "outputs": [
    {
     "name": "stdout",
     "output_type": "stream",
     "text": [
      "somebody\n",
      "Real\n"
     ]
    }
   ],
   "source": [
    "class Human:\n",
    "    def __init__(self, name = 'somebody'):\n",
    "        self.name = name\n",
    "\n",
    "    def __repr__(self):\n",
    "        return self.name\n",
    "\n",
    "dude = Human()\n",
    "me = Human('Real')\n",
    "\n",
    "# __repr__ (but also __str__ and __format__) are used to customize how you want a class instance to be represented as a string\n",
    "print(dude)\n",
    "print(me)"
   ]
  }
 ],
 "metadata": {
  "kernelspec": {
   "display_name": "Python 3 (ipykernel)",
   "language": "python",
   "name": "python3"
  },
  "language_info": {
   "codemirror_mode": {
    "name": "ipython",
    "version": 3
   },
   "file_extension": ".py",
   "mimetype": "text/x-python",
   "name": "python",
   "nbconvert_exporter": "python",
   "pygments_lexer": "ipython3",
   "version": "3.12.2"
  }
 },
 "nbformat": 4,
 "nbformat_minor": 5
}
